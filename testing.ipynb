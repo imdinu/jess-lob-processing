{
 "cells": [
  {
   "cell_type": "code",
   "execution_count": null,
   "id": "848b953f",
   "metadata": {},
   "outputs": [],
   "source": [
    "from excel_cleaner import clean_workbook"
   ]
  },
  {
   "cell_type": "code",
   "execution_count": null,
   "id": "5e55695c",
   "metadata": {},
   "outputs": [],
   "source": [
    "df = clean_workbook(\n",
    "    \"originals/Raw international financial data_FY22-25.xlsx\",\n",
    "    \"FY25 Mar Est - Europe (2)\",\n",
    "    # {\"Products\"  : r\"Product\"},\n",
    ")"
   ]
  },
  {
   "cell_type": "code",
   "execution_count": null,
   "id": "15afbdaa",
   "metadata": {},
   "outputs": [],
   "source": [
    "df"
   ]
  },
  {
   "cell_type": "code",
   "execution_count": null,
   "id": "3889eaad",
   "metadata": {},
   "outputs": [],
   "source": [
    "df.groupby(\"LOB\").agg(\n",
    "    {\"Net revenue\": \"sum\", \"Combined SW #\": \"count\"})"
   ]
  },
  {
   "cell_type": "code",
   "execution_count": null,
   "id": "aa40acfa",
   "metadata": {},
   "outputs": [],
   "source": []
  }
 ],
 "metadata": {
  "kernelspec": {
   "display_name": "jess-lob",
   "language": "python",
   "name": "python3"
  },
  "language_info": {
   "codemirror_mode": {
    "name": "ipython",
    "version": 3
   },
   "file_extension": ".py",
   "mimetype": "text/x-python",
   "name": "python",
   "nbconvert_exporter": "python",
   "pygments_lexer": "ipython3",
   "version": "3.13.5"
  }
 },
 "nbformat": 4,
 "nbformat_minor": 5
}
